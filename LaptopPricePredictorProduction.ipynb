{
 "cells": [
  {
   "cell_type": "code",
   "execution_count": 1,
   "id": "ba041290",
   "metadata": {},
   "outputs": [],
   "source": [
    "import pickle\n",
    "import numpy as np"
   ]
  },
  {
   "cell_type": "code",
   "execution_count": 2,
   "id": "7dc857c8",
   "metadata": {},
   "outputs": [],
   "source": [
    "pipe = pickle.load(open('pipe.pkl', 'rb'))\n",
    "df = pickle.load(open('df.pkl', 'rb'))"
   ]
  },
  {
   "cell_type": "code",
   "execution_count": 3,
   "id": "d55b1178",
   "metadata": {
    "scrolled": true
   },
   "outputs": [
    {
     "name": "stdout",
     "output_type": "stream",
     "text": [
      "Brands Available:  ['Apple' 'HP' 'Acer' 'Asus' 'Dell' 'Lenovo' 'Chuwi' 'MSI' 'Microsoft'\n",
      " 'Toshiba' 'Huawei' 'Xiaomi' 'Vero' 'Razer' 'Mediacom' 'Samsung' 'Google'\n",
      " 'Fujitsu' 'LG']\n",
      "Enter Brand: MSI\n",
      "\n",
      "Types:  ['Ultrabook' 'Notebook' 'Netbook' 'Gaming' '2 in 1 Convertible'\n",
      " 'Workstation']\n",
      "Enter Type: Gaming\n",
      "\n",
      "RAM(in GB) available:  array([ 2,  4,  6,  8, 12, 16, 24, 32, 64])\n",
      "Enter RAM: 8\n",
      "\n",
      "Enter Weight(in Kg): 2.00\n",
      "\n",
      "Touchscreen:  ['No' 'Yes']\n",
      "Touchscreen?: No\n",
      "\n",
      "IPS:  ['Yes' 'No']\n",
      "IPS?: Yes\n",
      "\n",
      "Enter Screen Size? 15.6\n",
      "\n",
      "Screen Resolution:  ['1920x1080', '1366x768', '1600x900', '3840x2160', '3200x1800', '2880x1800', '2560x1600', '2560x1440', '2304x1440']\n",
      "Enter Screen Resolution: 1920x1080\n",
      "\n",
      "CPU Brand:  ['Intel Core i5' 'Intel Core i7' 'AMD Processor' 'Intel Core i3'\n",
      " 'Other Intel Processor']\n",
      "Enter CPU Brand: Intel Core i7\n",
      "\n",
      "HDD:  array([   0,   32,  128,  500, 1000, 2000], dtype=int64)\n",
      "Enter HDD(in GB): 1000\n",
      "\n",
      "SSD:  array([   0,    8,   16,   32,   64,  128,  180,  240,  256,  512,  768,\n",
      "       1000, 1024], dtype=int64)\n",
      "Enter SSD(in GB): 256\n",
      "\n",
      "GPU Brand:  ['Intel' 'AMD' 'Nvidia']\n",
      "Enter GPU Brand: Nvidia\n",
      "\n",
      "Operating System:  ['Mac' 'Others/No OS' 'Windows' 'Linux']\n",
      "Enter Operating System: Windows\n",
      "\n"
     ]
    }
   ],
   "source": [
    "test_input = []\n",
    "\n",
    "print(\"Brands Available: \", df['Company'].unique())\n",
    "user_input = input(\"Enter Brand: \")\n",
    "test_input.append(user_input)\n",
    "print()\n",
    "\n",
    "print(\"Types: \", df['TypeName'].unique())\n",
    "user_input = input(\"Enter Type: \")\n",
    "test_input.append(user_input)\n",
    "print()\n",
    "\n",
    "print(\"RAM(in GB) available: \", repr(np.sort(df['Ram'].unique())))\n",
    "user_input = int(input(\"Enter RAM: \"))\n",
    "test_input.append(user_input)\n",
    "print()\n",
    "\n",
    "user_input = float(input(\"Enter Weight(in Kg): \"))\n",
    "test_input.append(user_input)\n",
    "print()\n",
    "\n",
    "original_array = df['Touchscreen'].unique()\n",
    "new_array = np.where(original_array == 0, \"No\", \"Yes\")\n",
    "print(\"Touchscreen: \", new_array)\n",
    "user_input = input(\"Touchscreen?: \")\n",
    "if user_input == 'No':\n",
    "    test_input.append(0)\n",
    "else:\n",
    "    test_input.append(1)\n",
    "print()\n",
    "\n",
    "original_array = df['IPS'].unique()\n",
    "new_array = np.where(original_array == 0, \"No\", \"Yes\")\n",
    "print(\"IPS: \", new_array)\n",
    "user_input = input(\"IPS?: \")\n",
    "if user_input == 'No':\n",
    "    test_input.append(0)\n",
    "else:\n",
    "    test_input.append(1)\n",
    "print()\n",
    "\n",
    "screen_size = float(input(\"Enter Screen Size? \"))\n",
    "print()\n",
    "\n",
    "screen_resolution = ['1920x1080','1366x768','1600x900','3840x2160','3200x1800','2880x1800','2560x1600','2560x1440','2304x1440']\n",
    "print(\"Screen Resolution: \", screen_resolution)\n",
    "user_input = input(\"Enter Screen Resolution: \")\n",
    "X_res = int(user_input.split('x')[0])\n",
    "Y_res = int(user_input.split('x')[1])\n",
    "ppi = round(((X_res**2) + (Y_res**2))**0.5/screen_size, 2)\n",
    "test_input.append(ppi)\n",
    "print()\n",
    "\n",
    "print(\"CPU Brand: \", df['Cpu Brand'].unique())\n",
    "user_input = input(\"Enter CPU Brand: \")\n",
    "test_input.append(user_input)\n",
    "print()\n",
    "\n",
    "print(\"HDD: \", repr(np.sort(df['HDD'].unique())))\n",
    "user_input = int(input(\"Enter HDD(in GB): \"))\n",
    "test_input.append(user_input)\n",
    "print()\n",
    "\n",
    "print(\"SSD: \", repr(np.sort(df['SSD'].unique())))\n",
    "user_input = int(input(\"Enter SSD(in GB): \"))\n",
    "test_input.append(user_input)\n",
    "print()\n",
    "\n",
    "print(\"GPU Brand: \", df['Gpu brand'].unique())\n",
    "user_input = input(\"Enter GPU Brand: \")\n",
    "test_input.append(user_input)\n",
    "print()\n",
    "\n",
    "print(\"Operating System: \", df['os'].unique())\n",
    "user_input = input(\"Enter Operating System: \")\n",
    "test_input.append(user_input)\n",
    "print()"
   ]
  },
  {
   "cell_type": "code",
   "execution_count": 4,
   "id": "240878fa",
   "metadata": {},
   "outputs": [
    {
     "name": "stdout",
     "output_type": "stream",
     "text": [
      "Expected Laptop Price: Rs. [66267.1248651]\n"
     ]
    },
    {
     "name": "stderr",
     "output_type": "stream",
     "text": [
      "C:\\ProgramData\\anaconda3\\Lib\\site-packages\\sklearn\\base.py:439: UserWarning: X does not have valid feature names, but OneHotEncoder was fitted with feature names\n",
      "  warnings.warn(\n"
     ]
    }
   ],
   "source": [
    "# test_input\n",
    "numpy_array = np.array(test_input, dtype = object).reshape(1,12)\n",
    "# numpy_array\n",
    "print(\"Expected Laptop Price: Rs.\", np.exp(pipe.predict(numpy_array)))"
   ]
  }
 ],
 "metadata": {
  "kernelspec": {
   "display_name": "Python 3 (ipykernel)",
   "language": "python",
   "name": "python3"
  },
  "language_info": {
   "codemirror_mode": {
    "name": "ipython",
    "version": 3
   },
   "file_extension": ".py",
   "mimetype": "text/x-python",
   "name": "python",
   "nbconvert_exporter": "python",
   "pygments_lexer": "ipython3",
   "version": "3.11.3"
  }
 },
 "nbformat": 4,
 "nbformat_minor": 5
}
